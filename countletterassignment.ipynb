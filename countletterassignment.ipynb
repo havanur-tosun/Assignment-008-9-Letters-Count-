{
  "nbformat": 4,
  "nbformat_minor": 0,
  "metadata": {
    "colab": {
      "name": "countletterassignment",
      "provenance": [],
      "collapsed_sections": [],
      "authorship_tag": "ABX9TyOdRXMG4oQaQyXMcoz885jE",
      "include_colab_link": true
    },
    "kernelspec": {
      "name": "python3",
      "display_name": "Python 3"
    },
    "language_info": {
      "name": "python"
    }
  },
  "cells": [
    {
      "cell_type": "markdown",
      "metadata": {
        "id": "view-in-github",
        "colab_type": "text"
      },
      "source": [
        "<a href=\"https://colab.research.google.com/github/havanur-tosun/Assignment-008-9-Letters-Count-/blob/main/countletterassignment.ipynb\" target=\"_parent\"><img src=\"https://colab.research.google.com/assets/colab-badge.svg\" alt=\"Open In Colab\"/></a>"
      ]
    },
    {
      "cell_type": "code",
      "metadata": {
        "colab": {
          "base_uri": "https://localhost:8080/"
        },
        "id": "h6DiBWMl_oDI",
        "outputId": "f0f5ba4a-c75c-4acb-d052-a76ba23ecb0d"
      },
      "source": [
        "sentence = input('Please enter the word: ')\n",
        "\n",
        "dict1 = {}\n",
        "\n",
        "for x in sentence:\n",
        "   keys = dict1.keys()\n",
        "   if x in dict1:\n",
        "        dict1[x] += 1\n",
        "   else:\n",
        "        dict1[x] = 1\n",
        "\n",
        "print (\"Count of all characters in '{}' is :\\n \".format(sentence) +  str(dict1))\n",
        "\n",
        "\n"
      ],
      "execution_count": null,
      "outputs": [
        {
          "output_type": "stream",
          "text": [
            "Please enter the word: hkjashfJSDPO\n",
            "Count of all characters in 'hkjashfJSDPO' is :\n",
            " {'h': 2, 'k': 1, 'j': 1, 'a': 1, 's': 1, 'f': 1, 'J': 1, 'S': 1, 'D': 1, 'P': 1, 'O': 1}\n"
          ],
          "name": "stdout"
        }
      ]
    }
  ]
}